{
 "cells": [
  {
   "cell_type": "markdown",
   "id": "9b805646",
   "metadata": {},
   "source": [
    "I was reading this article by Tim Urban - Your Life in Weeks and realised just how little time we actually have.\n",
    "in this program we look  how many days, weeks, months we have left if we live until 90 years old."
   ]
  },
  {
   "cell_type": "raw",
   "id": "01b73164",
   "metadata": {},
   "source": [
    "\n",
    "https://waitbutwhy.com/2014/05/life-weeks.html"
   ]
  },
  {
   "cell_type": "code",
   "execution_count": null,
   "id": "9db4e913",
   "metadata": {},
   "outputs": [],
   "source": [
    "\n",
    "age = input(\"What is your current age?\")\n",
    "day = (90 *365 ) - int(age)*365\n",
    "week = (90*52)- int(age)*52\n",
    "month = (90*12)- int(age)*12\n",
    "print(f\"you have {day} days,{week} weeks,and {month} months left\")"
   ]
  },
  {
   "cell_type": "code",
   "execution_count": null,
   "id": "15aa711f",
   "metadata": {},
   "outputs": [],
   "source": []
  }
 ],
 "metadata": {
  "kernelspec": {
   "display_name": "Python 3 (ipykernel)",
   "language": "python",
   "name": "python3"
  },
  "language_info": {
   "codemirror_mode": {
    "name": "ipython",
    "version": 3
   },
   "file_extension": ".py",
   "mimetype": "text/x-python",
   "name": "python",
   "nbconvert_exporter": "python",
   "pygments_lexer": "ipython3",
   "version": "3.9.12"
  }
 },
 "nbformat": 4,
 "nbformat_minor": 5
}
